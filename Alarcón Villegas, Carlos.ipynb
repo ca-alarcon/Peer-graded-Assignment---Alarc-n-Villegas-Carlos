{
  "metadata": {
    "language_info": {
      "codemirror_mode": {
        "name": "python",
        "version": 3
      },
      "file_extension": ".py",
      "mimetype": "text/x-python",
      "name": "python",
      "nbconvert_exporter": "python",
      "pygments_lexer": "ipython3",
      "version": "3.8"
    },
    "kernelspec": {
      "name": "python",
      "display_name": "Pyolite",
      "language": "python"
    }
  },
  "nbformat_minor": 4,
  "nbformat": 4,
  "cells": [
    {
      "cell_type": "markdown",
      "source": "# My Jupyter Notebook on IBM Watson Studio",
      "metadata": {}
    },
    {
      "cell_type": "markdown",
      "source": "**Carlos Antonio Alarcón Villegas**\n<br>\nDesired occupation: Industrial Engineer.",
      "metadata": {}
    },
    {
      "cell_type": "markdown",
      "source": "***I am interested in data science because it allows me to solve complex problems using a combination of statistical analysis and computer programming.***",
      "metadata": {}
    },
    {
      "cell_type": "markdown",
      "source": "### Code in Cell 5\nThe code in Cell 5 will compute the sum of two numbers:",
      "metadata": {}
    },
    {
      "cell_type": "code",
      "source": "def sum (a,b):\n    return a+b\n#For example:\nx = 1\ny = 2\nz = sum (x,y)\nprint(z)",
      "metadata": {
        "trusted": true
      },
      "execution_count": 1,
      "outputs": [
        {
          "name": "stdout",
          "text": "3\n",
          "output_type": "stream"
        }
      ]
    },
    {
      "cell_type": "markdown",
      "source": "Bulleted list:\n\n* Item A \n* Item B \n* Item C\n<br>\n\nNumbered list:\n1. Item A \n2. Item B \n3. Item C\n<br>\n\nTable:\n\n| Col A | Col B | \n|--------------|--------------| \n| A1 | B1 | \n| A2 | B2 |",
      "metadata": {}
    }
  ]
}